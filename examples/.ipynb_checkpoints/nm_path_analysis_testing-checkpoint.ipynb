{
 "cells": [
  {
   "cell_type": "markdown",
   "metadata": {
    "nbpresent": {
     "id": "356bba2d-5347-4f34-b21b-1b50da86bd29"
    },
    "slideshow": {
     "slide_type": "-"
    }
   },
   "source": [
    "# Testing the non-Markovian Path Analysis Package\n",
    " "
   ]
  },
  {
   "cell_type": "code",
   "execution_count": 1,
   "metadata": {
    "collapsed": false,
    "nbpresent": {
     "id": "bc89d15b-57c2-47b7-b8ca-e5a58636f460"
    },
    "slideshow": {
     "slide_type": "-"
    }
   },
   "outputs": [
    {
     "ename": "ImportError",
     "evalue": "cannot import name 'directional_mfpt'",
     "output_type": "error",
     "traceback": [
      "\u001b[0;31m---------------------------------------------------------------------------\u001b[0m",
      "\u001b[0;31mImportError\u001b[0m                               Traceback (most recent call last)",
      "\u001b[0;32m<ipython-input-1-02ef15679571>\u001b[0m in \u001b[0;36m<module>\u001b[0;34m()\u001b[0m\n\u001b[1;32m      2\u001b[0m \u001b[0msys\u001b[0m\u001b[0;34m.\u001b[0m\u001b[0mpath\u001b[0m\u001b[0;34m.\u001b[0m\u001b[0mappend\u001b[0m\u001b[0;34m(\u001b[0m\u001b[0;34m\"../\"\u001b[0m\u001b[0;34m)\u001b[0m\u001b[0;34m\u001b[0m\u001b[0m\n\u001b[1;32m      3\u001b[0m \u001b[0msys\u001b[0m\u001b[0;34m.\u001b[0m\u001b[0mpath\u001b[0m\u001b[0;34m.\u001b[0m\u001b[0mappend\u001b[0m\u001b[0;34m(\u001b[0m\u001b[0;34m\"../nmpath/\"\u001b[0m\u001b[0;34m)\u001b[0m\u001b[0;34m\u001b[0m\u001b[0m\n\u001b[0;32m----> 4\u001b[0;31m \u001b[0;32mfrom\u001b[0m \u001b[0mtest\u001b[0m\u001b[0;34m.\u001b[0m\u001b[0mtools_for_notebook\u001b[0m \u001b[0;32mimport\u001b[0m \u001b[0;34m*\u001b[0m\u001b[0;34m\u001b[0m\u001b[0m\n\u001b[0m\u001b[1;32m      5\u001b[0m \u001b[0mget_ipython\u001b[0m\u001b[0;34m(\u001b[0m\u001b[0;34m)\u001b[0m\u001b[0;34m.\u001b[0m\u001b[0mmagic\u001b[0m\u001b[0;34m(\u001b[0m\u001b[0;34m'matplotlib inline'\u001b[0m\u001b[0;34m)\u001b[0m\u001b[0;34m\u001b[0m\u001b[0m\n\u001b[1;32m      6\u001b[0m \u001b[0;32mfrom\u001b[0m \u001b[0mnmpath\u001b[0m\u001b[0;34m.\u001b[0m\u001b[0mauxfunctions\u001b[0m \u001b[0;32mimport\u001b[0m \u001b[0;34m*\u001b[0m\u001b[0;34m\u001b[0m\u001b[0m\n",
      "\u001b[0;32m/home/esuarez/Dropbox/workspace/NMpathAnalysis/test/tools_for_notebook.py\u001b[0m in \u001b[0;36m<module>\u001b[0;34m()\u001b[0m\n\u001b[1;32m      8\u001b[0m \u001b[0;32mfrom\u001b[0m \u001b[0mnmpath\u001b[0m\u001b[0;34m.\u001b[0m\u001b[0minterval\u001b[0m \u001b[0;32mimport\u001b[0m \u001b[0mInterval\u001b[0m\u001b[0;34m\u001b[0m\u001b[0m\n\u001b[1;32m      9\u001b[0m \u001b[0;32mfrom\u001b[0m \u001b[0mnmpath\u001b[0m\u001b[0;34m.\u001b[0m\u001b[0mauxfunctions\u001b[0m \u001b[0;32mimport\u001b[0m \u001b[0;34m*\u001b[0m\u001b[0;34m\u001b[0m\u001b[0m\n\u001b[0;32m---> 10\u001b[0;31m \u001b[0;32mfrom\u001b[0m \u001b[0mnmpath\u001b[0m\u001b[0;34m.\u001b[0m\u001b[0mensembles\u001b[0m \u001b[0;32mimport\u001b[0m \u001b[0;34m*\u001b[0m\u001b[0;34m\u001b[0m\u001b[0m\n\u001b[0m\u001b[1;32m     11\u001b[0m \u001b[0;34m\u001b[0m\u001b[0m\n\u001b[1;32m     12\u001b[0m \u001b[0;31m# global variable: number of partitions per dimension in the 2D toy model\u001b[0m\u001b[0;34m\u001b[0m\u001b[0;34m\u001b[0m\u001b[0m\n",
      "\u001b[0;32m/home/esuarez/Dropbox/workspace/NMpathAnalysis/nmpath/ensembles.py\u001b[0m in \u001b[0;36m<module>\u001b[0;34m()\u001b[0m\n\u001b[1;32m      8\u001b[0m \u001b[0;32mfrom\u001b[0m \u001b[0mnmpath\u001b[0m\u001b[0;34m.\u001b[0m\u001b[0minterval\u001b[0m \u001b[0;32mimport\u001b[0m \u001b[0mInterval\u001b[0m\u001b[0;34m\u001b[0m\u001b[0m\n\u001b[1;32m      9\u001b[0m \u001b[0;32mfrom\u001b[0m \u001b[0mnmpath\u001b[0m\u001b[0;34m.\u001b[0m\u001b[0mauxfunctions\u001b[0m \u001b[0;32mimport\u001b[0m \u001b[0mget_shape\u001b[0m\u001b[0;34m,\u001b[0m \u001b[0mweighted_choice\u001b[0m\u001b[0;34m\u001b[0m\u001b[0m\n\u001b[0;32m---> 10\u001b[0;31m \u001b[0;32mfrom\u001b[0m \u001b[0mnmpath\u001b[0m\u001b[0;34m.\u001b[0m\u001b[0mauxfunctions\u001b[0m \u001b[0;32mimport\u001b[0m \u001b[0mreverse_sort_lists\u001b[0m\u001b[0;34m,\u001b[0m \u001b[0mdirectional_mfpt\u001b[0m\u001b[0;34m\u001b[0m\u001b[0m\n\u001b[0m\u001b[1;32m     11\u001b[0m \u001b[0;34m\u001b[0m\u001b[0m\n\u001b[1;32m     12\u001b[0m \u001b[0;34m\u001b[0m\u001b[0m\n",
      "\u001b[0;31mImportError\u001b[0m: cannot import name 'directional_mfpt'"
     ]
    }
   ],
   "source": [
    "import sys\n",
    "sys.path.append(\"../\")\n",
    "sys.path.append(\"../nmpath/\")\n",
    "from test.tools_for_notebook import *\n",
    "%matplotlib inline\n",
    "from nmpath.auxfunctions import *\n",
    "from nmpath.mfpt import *\n",
    "from nmpath.mappers import rectilinear_mapper\n",
    "#from nmpath.mappers import voronoi_mapper"
   ]
  },
  {
   "cell_type": "markdown",
   "metadata": {
    "nbpresent": {
     "id": "47b06733-a4df-4500-83e5-21cc5badf8a0"
    }
   },
   "source": [
    "## 2D Toy model"
   ]
  },
  {
   "cell_type": "code",
   "execution_count": null,
   "metadata": {
    "collapsed": false,
    "nbpresent": {
     "id": "da74d32a-133d-4089-aa59-cdd7a12f5be1"
    },
    "slideshow": {
     "slide_type": "slide"
    }
   },
   "outputs": [],
   "source": [
    "plot_traj([],[])"
   ]
  },
  {
   "cell_type": "markdown",
   "metadata": {
    "nbpresent": {
     "id": "06f9cc70-7ffe-4ad5-bb11-8a9447586e2f"
    }
   },
   "source": [
    "## MC simulation"
   ]
  },
  {
   "cell_type": "code",
   "execution_count": null,
   "metadata": {
    "collapsed": false,
    "nbpresent": {
     "id": "abf4a227-7318-4642-a64a-5dd2e0133dab"
    }
   },
   "outputs": [],
   "source": [
    "#Generating MC trajectories\n",
    "mc_traj1_2d = mc_simulation2D(100000)\n",
    "mc_traj2_2d = mc_simulation2D(10000)"
   ]
  },
  {
   "cell_type": "markdown",
   "metadata": {
    "nbpresent": {
     "id": "f97d887e-8bc6-4836-829b-efb895904e4b"
    }
   },
   "source": [
    "\n",
    "## 1 - Ensemble class (analysis of continuos trajectories)\n",
    "\n",
    "Stores an esemble (list) of trajectories (np.arrays). The ensemble could have any number of trajectories including no trajectories at all."
   ]
  },
  {
   "cell_type": "markdown",
   "metadata": {
    "nbpresent": {
     "id": "63230519-9b4e-46f0-bedd-94426293580e"
    }
   },
   "source": [
    "### Creating an Ensemble"
   ]
  },
  {
   "cell_type": "code",
   "execution_count": null,
   "metadata": {
    "collapsed": true,
    "nbpresent": {
     "id": "129a1ea2-8255-460b-b26b-387d47e8f93e"
    }
   },
   "outputs": [],
   "source": [
    "# Empty ensemble with no trajectories\n",
    "my_ensemble = Ensemble()"
   ]
  },
  {
   "cell_type": "markdown",
   "metadata": {
    "nbpresent": {
     "id": "1866384e-a00c-47df-8131-f92491dd3d00"
    }
   },
   "source": [
    "From a single trajectory:"
   ]
  },
  {
   "cell_type": "code",
   "execution_count": null,
   "metadata": {
    "collapsed": false,
    "nbpresent": {
     "id": "4b3740ac-d294-4123-b461-2138793d6cc8"
    }
   },
   "outputs": [],
   "source": [
    "# from a single trajectory\n",
    "my_ensemble = Ensemble([mc_traj1_2d],verbose=True)"
   ]
  },
  {
   "cell_type": "markdown",
   "metadata": {
    "nbpresent": {
     "id": "ee484eec-d84f-42f2-b045-49bf4b4d1df1"
    }
   },
   "source": [
    "From a list of trajectories:"
   ]
  },
  {
   "cell_type": "code",
   "execution_count": null,
   "metadata": {
    "collapsed": false,
    "nbpresent": {
     "id": "3103dd3d-6e2a-43f8-99dc-53bed7c7a36b"
    }
   },
   "outputs": [],
   "source": [
    "# We have to set list_of_trajs = True\n",
    "\n",
    "my_list_of_trajs = [mc_traj1_2d, mc_traj2_2d]\n",
    "\n",
    "my_ensemble = Ensemble(my_list_of_trajs, verbose=True)"
   ]
  },
  {
   "cell_type": "markdown",
   "metadata": {
    "nbpresent": {
     "id": "6ffbd99d-af85-46e8-aeae-63eac7355d1f"
    }
   },
   "source": [
    "### Ensembles are iterable objects  "
   ]
  },
  {
   "cell_type": "code",
   "execution_count": null,
   "metadata": {
    "collapsed": false,
    "nbpresent": {
     "id": "4273cd96-8c5a-4d84-af44-8681323b85c1"
    }
   },
   "outputs": [],
   "source": [
    "for traj in my_ensemble:\n",
    "    print(len(traj))"
   ]
  },
  {
   "cell_type": "markdown",
   "metadata": {
    "nbpresent": {
     "id": "0caea75c-858f-4c79-920b-ac627174497a"
    }
   },
   "source": [
    "### Adding trajectories to the Ensemble\n",
    "New trajectories can be added to the ensemble as long as there is consistency in the number of variables."
   ]
  },
  {
   "cell_type": "code",
   "execution_count": null,
   "metadata": {
    "collapsed": false,
    "nbpresent": {
     "id": "f9b93797-973f-48b2-9517-4f6d516c2f3e"
    }
   },
   "outputs": [],
   "source": [
    "my_ensemble = Ensemble(verbose=True)\n",
    "\n",
    "my_ensemble.add_trajectory(mc_traj1_2d)\n",
    "\n",
    "my_ensemble.add_trajectory(mc_traj2_2d)"
   ]
  },
  {
   "cell_type": "markdown",
   "metadata": {
    "nbpresent": {
     "id": "e56d58e6-8ec3-495b-ad1d-199c19c02510"
    }
   },
   "source": [
    "## \"Printing\" the ensemble"
   ]
  },
  {
   "cell_type": "code",
   "execution_count": null,
   "metadata": {
    "collapsed": false,
    "nbpresent": {
     "id": "9c3db050-a406-4e3e-81c9-7c503989ca62"
    },
    "scrolled": true
   },
   "outputs": [],
   "source": [
    "print(my_ensemble)"
   ]
  },
  {
   "cell_type": "markdown",
   "metadata": {
    "nbpresent": {
     "id": "187c0b14-8432-4c37-8981-2e73484fa1f0"
    }
   },
   "source": [
    "### Defining states and computing MFPTs\n",
    "The states are considered intervals in the is the class is Ensemble"
   ]
  },
  {
   "cell_type": "code",
   "execution_count": null,
   "metadata": {
    "collapsed": false,
    "nbpresent": {
     "id": "e7f46d49-03ef-4d0e-b124-479d02b4c883"
    }
   },
   "outputs": [],
   "source": [
    "stateA = [[0,pi],[0,pi]]\n",
    "stateB = [[5*pi,6*pi],[5*pi,6*pi]]\n",
    "\n",
    "my_ensemble.mfpts(stateA, stateB)"
   ]
  },
  {
   "cell_type": "markdown",
   "metadata": {
    "nbpresent": {
     "id": "24f0e5b6-7119-450c-9e5a-d79f005872b6"
    }
   },
   "source": [
    "### Sum of ensembles (ensemble + ensemble)"
   ]
  },
  {
   "cell_type": "code",
   "execution_count": null,
   "metadata": {
    "collapsed": false,
    "nbpresent": {
     "id": "c45b176f-7c86-468b-bb7d-aae310f55bf3"
    }
   },
   "outputs": [],
   "source": [
    "seq1 = mc_simulation2D(20000)\n",
    "seq2 = mc_simulation2D(20000)\n",
    "\n",
    "my_e1 = Ensemble([seq1])\n",
    "my_e2 = Ensemble([seq2])\n",
    "\n",
    "ensemble1 = my_e1 + my_e2"
   ]
  },
  {
   "cell_type": "markdown",
   "metadata": {
    "nbpresent": {
     "id": "5469a941-41b8-481b-8c66-24ad2ddfa460"
    }
   },
   "source": [
    "#### Another simple example"
   ]
  },
  {
   "cell_type": "code",
   "execution_count": null,
   "metadata": {
    "collapsed": false,
    "nbpresent": {
     "id": "99ae7965-796e-431d-b2eb-5a069c884add"
    }
   },
   "outputs": [],
   "source": [
    "e1 = Ensemble([[1.,2.,3.,4.]],verbose=True)\n",
    "e2 = Ensemble([[2,3,4,5]])\n",
    "e3 = Ensemble([[2,1,1,4]])\n",
    "\n",
    "my_ensembles = [e1, e2, e3]\n",
    "\n",
    "ensemble_tot = Ensemble([])\n",
    "\n",
    "for ens in my_ensembles:\n",
    "    ensemble_tot += ens\n",
    "\n",
    "#ensemble_tot.mfpts([1,1],[4,4])"
   ]
  },
  {
   "cell_type": "markdown",
   "metadata": {
    "nbpresent": {
     "id": "09eb1333-c907-4a43-976f-723dc53dc969"
    }
   },
   "source": [
    "### Computing the count matrix and transition matrix"
   ]
  },
  {
   "cell_type": "code",
   "execution_count": null,
   "metadata": {
    "collapsed": false,
    "nbpresent": {
     "id": "22d2fbfe-98f5-4149-bb05-9e93b9d7c522"
    },
    "scrolled": true
   },
   "outputs": [],
   "source": [
    "n_states = N**2\n",
    "bin_bounds = [[i*pi for i in range(7)],[i*pi for i in range(7)]]\n",
    "C1 = my_ensemble._count_matrix(n_states, map_function=rectilinear_mapper(bin_bounds))\n",
    "print(C1)"
   ]
  },
  {
   "cell_type": "code",
   "execution_count": null,
   "metadata": {
    "collapsed": false,
    "nbpresent": {
     "id": "e496617d-a768-4652-b210-e6baa34a94c2"
    },
    "scrolled": true
   },
   "outputs": [],
   "source": [
    "K1 = my_ensemble._mle_transition_matrix(n_states, map_function=rectilinear_mapper(bin_bounds))\n",
    "print(K1)"
   ]
  },
  {
   "cell_type": "markdown",
   "metadata": {
    "nbpresent": {
     "id": "a0a40398-96aa-4e38-8e62-bb1197820d7e"
    }
   },
   "source": [
    "## 2 - PathEnsemble class"
   ]
  },
  {
   "cell_type": "markdown",
   "metadata": {
    "nbpresent": {
     "id": "5f297024-ba58-40f8-85f0-37130771019e"
    }
   },
   "source": [
    "### Creating a path ensemble object"
   ]
  },
  {
   "cell_type": "code",
   "execution_count": null,
   "metadata": {
    "collapsed": false,
    "nbpresent": {
     "id": "9163021c-ff67-4496-ae23-2de275c2f921"
    },
    "scrolled": true
   },
   "outputs": [],
   "source": [
    "#p_ensemble = PathEnsemble()"
   ]
  },
  {
   "cell_type": "markdown",
   "metadata": {
    "nbpresent": {
     "id": "4013acf0-eeb8-42f7-bc36-c4ceadd7800d"
    }
   },
   "source": [
    "#### From ensemble"
   ]
  },
  {
   "cell_type": "code",
   "execution_count": null,
   "metadata": {
    "collapsed": false,
    "nbpresent": {
     "id": "e632fe8a-b8ae-402d-a570-2c7b5fffb195"
    }
   },
   "outputs": [],
   "source": [
    "p_ensemble = PathEnsemble.from_ensemble(my_ensemble, stateA, stateB)\n",
    "\n",
    "print(p_ensemble)"
   ]
  },
  {
   "cell_type": "markdown",
   "metadata": {
    "nbpresent": {
     "id": "dadafc00-f26b-49d0-ab5c-2acd133dc5ab"
    }
   },
   "source": [
    "### MFPTs"
   ]
  },
  {
   "cell_type": "code",
   "execution_count": null,
   "metadata": {
    "collapsed": false,
    "nbpresent": {
     "id": "56285af2-5016-4f17-a359-c0d2f7b309de"
    }
   },
   "outputs": [],
   "source": [
    "p_ensemble.mfpts(stateA, stateB)"
   ]
  },
  {
   "cell_type": "markdown",
   "metadata": {
    "nbpresent": {
     "id": "87b252f5-1e22-474f-8fee-3f4f7242c28b"
    }
   },
   "source": [
    "### Count matrix"
   ]
  },
  {
   "cell_type": "code",
   "execution_count": null,
   "metadata": {
    "collapsed": false,
    "nbpresent": {
     "id": "a9487af3-6549-43db-9cb5-c3c2b28aedd5"
    }
   },
   "outputs": [],
   "source": [
    "print(p_ensemble._count_matrix(n_states, mapping_function2D))"
   ]
  },
  {
   "cell_type": "code",
   "execution_count": null,
   "metadata": {
    "collapsed": false,
    "nbpresent": {
     "id": "c8bb648f-2f30-472c-a4be-780a7cde84e6"
    }
   },
   "outputs": [],
   "source": [
    "#clusters = p_ensemble.cluster(distance_metric = 'RMSD', n_cluster=10, method = 'K-means')"
   ]
  },
  {
   "cell_type": "markdown",
   "metadata": {
    "collapsed": false,
    "nbpresent": {
     "id": "32233e00-c570-42b6-aff4-9efd8931e3f3"
    }
   },
   "source": [
    "\n",
    "## 3 - DiscreteEnsemble class\n",
    "\n",
    "We can generate a discrete ensemble from the same mapping function and we should obtain exaclty the same result:"
   ]
  },
  {
   "cell_type": "code",
   "execution_count": null,
   "metadata": {
    "collapsed": false,
    "nbpresent": {
     "id": "b417c35b-c1b5-4865-8922-2839a1f20529"
    }
   },
   "outputs": [],
   "source": [
    "d_ens = DiscreteEnsemble.from_ensemble(my_ensemble, mapping_function2D)\n",
    "\n",
    "print(d_ens)"
   ]
  },
  {
   "cell_type": "markdown",
   "metadata": {
    "nbpresent": {
     "id": "f49c19c5-5190-4c0f-98b8-f08105f58627"
    }
   },
   "source": [
    "### Count matrix and transition matrix"
   ]
  },
  {
   "cell_type": "code",
   "execution_count": null,
   "metadata": {
    "collapsed": false,
    "nbpresent": {
     "id": "e4e4f54b-d57f-44fe-9a72-5a6acbf49d6a"
    }
   },
   "outputs": [],
   "source": [
    "C2 = d_ens._count_matrix(n_states)\n",
    "print(C2)"
   ]
  },
  {
   "cell_type": "code",
   "execution_count": null,
   "metadata": {
    "collapsed": false,
    "nbpresent": {
     "id": "f0743015-c3bf-4c1e-a162-0f7a8dd756d7"
    },
    "scrolled": true
   },
   "outputs": [],
   "source": [
    "K2= d_ens._mle_transition_matrix(n_states)\n",
    "print(K2)"
   ]
  },
  {
   "cell_type": "markdown",
   "metadata": {
    "nbpresent": {
     "id": "376799d9-5f6f-4593-8622-e9f0fc6be92e"
    }
   },
   "source": [
    "### Defining states and computing MFPTs\n",
    "The states are now considered sets, defining the states as follow we should obtain the same results"
   ]
  },
  {
   "cell_type": "code",
   "execution_count": null,
   "metadata": {
    "collapsed": false,
    "nbpresent": {
     "id": "ee7381a9-09ad-4b13-a089-6ef6e754fcde"
    }
   },
   "outputs": [],
   "source": [
    "stateA = [0]\n",
    "stateB = [N*N-1]\n",
    "\n",
    "d_ens.mfpts(stateA, stateB)"
   ]
  },
  {
   "cell_type": "markdown",
   "metadata": {
    "nbpresent": {
     "id": "2e34557e-16e7-4f5d-b634-3b048b617e19"
    }
   },
   "source": [
    "### Generating a Discrete Ensemble from the transition matrix"
   ]
  },
  {
   "cell_type": "code",
   "execution_count": null,
   "metadata": {
    "collapsed": false,
    "nbpresent": {
     "id": "5913a6c8-c456-49f2-9b60-a83d7c2a552a"
    }
   },
   "outputs": [],
   "source": [
    "d_ens2 = DiscreteEnsemble.from_transition_matrix(K2, sim_length = 100000)"
   ]
  },
  {
   "cell_type": "code",
   "execution_count": null,
   "metadata": {
    "collapsed": false,
    "nbpresent": {
     "id": "9243ba55-861a-483c-8d5b-cb220c4e5e4a"
    }
   },
   "outputs": [],
   "source": [
    "#d_ens2.mfpts(stateA,stateB)"
   ]
  },
  {
   "cell_type": "markdown",
   "metadata": {
    "nbpresent": {
     "id": "a1c3456a-29ca-4334-8c42-8fe627006a97"
    }
   },
   "source": [
    "## 4 - DiscretePathEnsemble class"
   ]
  },
  {
   "cell_type": "markdown",
   "metadata": {
    "nbpresent": {
     "id": "b115f50e-4ba1-4cff-b7e9-9bb4e60b1458"
    }
   },
   "source": [
    "### Creating the DPE\n",
    "\n",
    "#### From Ensemble"
   ]
  },
  {
   "cell_type": "code",
   "execution_count": null,
   "metadata": {
    "collapsed": false,
    "nbpresent": {
     "id": "11db476f-0250-4556-8984-f04a9a1c6148"
    }
   },
   "outputs": [],
   "source": [
    "dpathEnsemble = DiscretePathEnsemble.from_ensemble(my_ensemble, stateA, stateB, mapping_function2D)\n",
    "print(dpathEnsemble)"
   ]
  },
  {
   "cell_type": "code",
   "execution_count": null,
   "metadata": {
    "collapsed": false,
    "nbpresent": {
     "id": "3e204448-f854-4e59-b423-1fa3b9437372"
    }
   },
   "outputs": [],
   "source": [
    "#MFPT from the transition matrix\n",
    "dpathEnsemble.nm_mfpt(ini_probs = None, n_states = N*N)"
   ]
  },
  {
   "cell_type": "markdown",
   "metadata": {
    "nbpresent": {
     "id": "8fe690c3-0891-4776-8b75-a186b0d9a97d"
    }
   },
   "source": [
    "#### From the transition matrix"
   ]
  },
  {
   "cell_type": "code",
   "execution_count": null,
   "metadata": {
    "collapsed": false,
    "nbpresent": {
     "id": "ba19d6f8-7f9c-4947-b257-239a99071efa"
    }
   },
   "outputs": [],
   "source": [
    "n_paths = 100\n",
    "\n",
    "dpathEnsemble2 = DiscretePathEnsemble.from_transition_matrix\\\n",
    "                (K2, stateA = stateA, stateB = stateB, n_paths = n_paths,ini_pops = [1])\n",
    "    \n",
    "print(dpathEnsemble2)"
   ]
  },
  {
   "cell_type": "markdown",
   "metadata": {
    "nbpresent": {
     "id": "7c6c8659-a11e-449d-a042-d6ffd5a93c83"
    }
   },
   "source": [
    "### Fundamental sequence"
   ]
  },
  {
   "cell_type": "code",
   "execution_count": null,
   "metadata": {
    "collapsed": false,
    "nbpresent": {
     "id": "0f3ad1f1-120d-4786-af98-228b21600fac"
    }
   },
   "outputs": [],
   "source": [
    "FSs = dpathEnsemble2.fundamental_sequences(K2)\n",
    "size = len(FSs)\n",
    "\n",
    "paths = dpathEnsemble2.trajectories"
   ]
  },
  {
   "cell_type": "markdown",
   "metadata": {
    "nbpresent": {
     "id": "14cf10e4-a259-40e0-a31c-fea5f4f84aa0"
    }
   },
   "source": [
    "### Plotting paths A -> B"
   ]
  },
  {
   "cell_type": "code",
   "execution_count": null,
   "metadata": {
    "collapsed": false,
    "nbpresent": {
     "id": "f6c17fd7-8d79-4cb1-b246-1ebd736cdcac"
    }
   },
   "outputs": [],
   "source": [
    "discrete = [True for i in range(size)]\n",
    "\n",
    "plot_traj([[paths[i],[]] for i in range(size)] , discrete, \\\n",
    "          line_width=0.1, std=0.5, color='k', title = '{} paths A->B'.format(n_paths))"
   ]
  },
  {
   "cell_type": "markdown",
   "metadata": {
    "nbpresent": {
     "id": "b2913f26-403e-421a-8f52-149b031e0a2c"
    }
   },
   "source": [
    "### Plotting Fundamental Sequences A -> B"
   ]
  },
  {
   "cell_type": "code",
   "execution_count": null,
   "metadata": {
    "collapsed": false,
    "nbpresent": {
     "id": "6763a73b-bc36-401a-9515-d4577953c5a1"
    }
   },
   "outputs": [],
   "source": [
    "plot_traj([[FSs[i],[]] for i in range(size)] ,discrete, \\\n",
    "          line_width=0.5, std=0.4, color='k', title = '{} FSs A->B'.format(n_paths))"
   ]
  },
  {
   "cell_type": "code",
   "execution_count": null,
   "metadata": {
    "collapsed": false,
    "nbpresent": {
     "id": "da3ad9fc-b2d6-4ddf-ba16-65718cf76d39"
    }
   },
   "outputs": [],
   "source": [
    "reduced_FSs, weights = dpathEnsemble2.weighted_fundamental_sequences(K2)\n",
    "new_size = len(weights)\n",
    "lw = [weights[i]*100 for i in range(new_size)] "
   ]
  },
  {
   "cell_type": "code",
   "execution_count": null,
   "metadata": {
    "collapsed": false,
    "nbpresent": {
     "id": "3754dc20-1047-4fd7-93bb-d0ce43086d74"
    }
   },
   "outputs": [],
   "source": [
    "np.random.seed(3)\n",
    "plot_traj([[reduced_FSs[i],[]] for i in range(new_size)] ,discrete=[True for i in range(new_size)],\\\n",
    "          line_width = lw,std = 0.02, alpha=0.05) "
   ]
  },
  {
   "cell_type": "code",
   "execution_count": null,
   "metadata": {
    "collapsed": true,
    "nbpresent": {
     "id": "fe531232-e4ee-4ccc-a704-922fc612fa1b"
    }
   },
   "outputs": [],
   "source": [
    "### for i,w in enumerate(weights):\n",
    "#     print(w,' ',reduced_FSs[i])"
   ]
  },
  {
   "cell_type": "code",
   "execution_count": null,
   "metadata": {
    "collapsed": false,
    "nbpresent": {
     "id": "95d092e3-63f3-4d8f-96b5-301ee278af68"
    }
   },
   "outputs": [],
   "source": [
    "# G = nx.DiGraph()\n",
    "# G.add_nodes_from(list(range(N*N)))\n",
    "# max_path = 2\n",
    "# count = 0\n",
    "# for path in reduced_FSs:\n",
    "#     for i in range(len(path)-1):\n",
    "#         G.add_edge(path[i],path[i+1], weight = 0)\n",
    "#     count+=1\n",
    "#     if count >= max_path: break\n",
    "# nx.draw_random(G,with_labels=True)"
   ]
  }
 ],
 "metadata": {
  "anaconda-cloud": {},
  "celltoolbar": "Raw Cell Format",
  "kernelspec": {
   "display_name": "Python 3",
   "language": "python",
   "name": "python3"
  },
  "language_info": {
   "codemirror_mode": {
    "name": "ipython",
    "version": 3
   },
   "file_extension": ".py",
   "mimetype": "text/x-python",
   "name": "python",
   "nbconvert_exporter": "python",
   "pygments_lexer": "ipython3",
   "version": "3.6.0"
  },
  "nbpresent": {
   "slides": {
    "6f9f30f8-ff78-4e05-8800-de72ebc0df17": {
     "id": "6f9f30f8-ff78-4e05-8800-de72ebc0df17",
     "prev": null,
     "regions": {
      "c8329a41-21da-45ff-815c-4339e43db879": {
       "attrs": {
        "height": 1,
        "width": 1,
        "x": 0,
        "y": 0
       },
       "id": "c8329a41-21da-45ff-815c-4339e43db879"
      }
     }
    }
   },
   "themes": {}
  }
 },
 "nbformat": 4,
 "nbformat_minor": 0
}
